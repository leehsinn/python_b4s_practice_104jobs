{
 "cells": [
  {
   "cell_type": "code",
   "execution_count": 1,
   "id": "9a663f53",
   "metadata": {},
   "outputs": [
    {
     "name": "stdout",
     "output_type": "stream",
     "text": [
      "Collecting selenium\n",
      "  Downloading selenium-4.9.1-py3-none-any.whl (6.6 MB)\n",
      "     ---------------------------------------- 6.6/6.6 MB 194.5 kB/s eta 0:00:00\n",
      "Collecting trio~=0.17\n",
      "  Downloading trio-0.22.0-py3-none-any.whl (384 kB)\n",
      "     ------------------------------------ 384.9/384.9 kB 255.1 kB/s eta 0:00:00\n",
      "Requirement already satisfied: certifi>=2021.10.8 in c:\\users\\user\\anaconda3\\lib\\site-packages (from selenium) (2022.12.7)\n",
      "Requirement already satisfied: urllib3[socks]<3,>=1.26 in c:\\users\\user\\anaconda3\\lib\\site-packages (from selenium) (1.26.14)\n",
      "Collecting trio-websocket~=0.9\n",
      "  Downloading trio_websocket-0.10.2-py3-none-any.whl (17 kB)\n",
      "Requirement already satisfied: sortedcontainers in c:\\users\\user\\anaconda3\\lib\\site-packages (from trio~=0.17->selenium) (2.4.0)\n",
      "Requirement already satisfied: idna in c:\\users\\user\\anaconda3\\lib\\site-packages (from trio~=0.17->selenium) (3.4)\n",
      "Requirement already satisfied: sniffio in c:\\users\\user\\anaconda3\\lib\\site-packages (from trio~=0.17->selenium) (1.2.0)\n",
      "Collecting exceptiongroup>=1.0.0rc9\n",
      "  Downloading exceptiongroup-1.1.1-py3-none-any.whl (14 kB)\n",
      "Collecting outcome\n",
      "  Downloading outcome-1.2.0-py2.py3-none-any.whl (9.7 kB)\n",
      "Collecting async-generator>=1.9\n",
      "  Downloading async_generator-1.10-py3-none-any.whl (18 kB)\n",
      "Requirement already satisfied: attrs>=19.2.0 in c:\\users\\user\\anaconda3\\lib\\site-packages (from trio~=0.17->selenium) (22.1.0)\n",
      "Requirement already satisfied: cffi>=1.14 in c:\\users\\user\\anaconda3\\lib\\site-packages (from trio~=0.17->selenium) (1.15.1)\n",
      "Collecting wsproto>=0.14\n",
      "  Downloading wsproto-1.2.0-py3-none-any.whl (24 kB)\n",
      "Requirement already satisfied: PySocks!=1.5.7,<2.0,>=1.5.6 in c:\\users\\user\\anaconda3\\lib\\site-packages (from urllib3[socks]<3,>=1.26->selenium) (1.7.1)\n",
      "Requirement already satisfied: pycparser in c:\\users\\user\\anaconda3\\lib\\site-packages (from cffi>=1.14->trio~=0.17->selenium) (2.21)\n",
      "Collecting h11<1,>=0.9.0\n",
      "  Downloading h11-0.14.0-py3-none-any.whl (58 kB)\n",
      "     -------------------------------------- 58.3/58.3 kB 236.5 kB/s eta 0:00:00\n",
      "Installing collected packages: outcome, h11, exceptiongroup, async-generator, wsproto, trio, trio-websocket, selenium\n",
      "Successfully installed async-generator-1.10 exceptiongroup-1.1.1 h11-0.14.0 outcome-1.2.0 selenium-4.9.1 trio-0.22.0 trio-websocket-0.10.2 wsproto-1.2.0\n"
     ]
    }
   ],
   "source": [
    "!pip install selenium"
   ]
  },
  {
   "cell_type": "code",
   "execution_count": 8,
   "id": "061593f4",
   "metadata": {},
   "outputs": [
    {
     "name": "stderr",
     "output_type": "stream",
     "text": [
      "C:\\Users\\user\\AppData\\Local\\Temp\\ipykernel_89104\\3054229845.py:5: DeprecationWarning: executable_path has been deprecated, please pass in a Service object\n",
      "  driver = webdriver.Chrome(\"C:\\\\Users\\\\user\\\\chromedriver.exe\")\n"
     ]
    }
   ],
   "source": [
    "from selenium import webdriver #導入瀏覽器\n",
    "from selenium.webdriver.common.by import By #導入選取器\n",
    "\n",
    "#開啟瀏覽器\n",
    "driver = webdriver.Chrome(\"C:\\\\Users\\\\user\\\\chromedriver.exe\")\n",
    "driver.get(\"https://popcat.click/\")\n",
    "\n",
    "div = driver.find_element(By.ID,\"app\")\n",
    "for i in range(100):\n",
    "    div.click()"
   ]
  },
  {
   "cell_type": "code",
   "execution_count": 18,
   "id": "e19f8e89",
   "metadata": {},
   "outputs": [
    {
     "name": "stderr",
     "output_type": "stream",
     "text": [
      "C:\\Users\\user\\AppData\\Local\\Temp\\ipykernel_89104\\3439203892.py:7: DeprecationWarning: executable_path has been deprecated, please pass in a Service object\n",
      "  driver = webdriver.Chrome(\"C:\\\\Users\\\\user\\\\chromedriver.exe\")\n"
     ]
    }
   ],
   "source": [
    "from selenium import webdriver #導入瀏覽器\n",
    "from selenium.webdriver.common.by import By #導入選取器\n",
    "from selenium.webdriver.support.wait import WebDriverWait\n",
    "from selenium.webdriver.support import expected_conditions as EC\n",
    "\n",
    "#開啟瀏覽器\n",
    "driver = webdriver.Chrome(\"C:\\\\Users\\\\user\\\\chromedriver.exe\")\n",
    "driver.get(\"https://zh-tw.facebook.com/\")\n",
    "\n",
    "#設置讀取網站的時間，直到(判斷可被點擊((選取目標))) #\"tag[attr_name=attr_value]\n",
    "account = WebDriverWait(driver,10).until(EC.element_to_be_clickable((By.CSS_SELECTOR,\"input[id='email']\")))\n",
    "account.send_keys(\"two86130@gmail.com\")\n",
    "password = WebDriverWait(driver,10).until(EC.element_to_be_clickable((By.CSS_SELECTOR,\"input[id='pass']\")))\n",
    "password.send_keys(\"Limitno2\")\n",
    "\n",
    "\n",
    "log = driver.find_element(By.CSS_SELECTOR,\"button[name='login']\")\n",
    "log.click()"
   ]
  },
  {
   "cell_type": "code",
   "execution_count": 21,
   "id": "0e8db6d6",
   "metadata": {},
   "outputs": [
    {
     "name": "stderr",
     "output_type": "stream",
     "text": [
      "C:\\Users\\user\\AppData\\Local\\Temp\\ipykernel_89104\\2585291230.py:13: DeprecationWarning: executable_path has been deprecated, please pass in a Service object\n",
      "  driver = webdriver.Chrome(\"C:\\\\Users\\\\user\\\\chromedriver.exe\",options=option)\n"
     ]
    }
   ],
   "source": [
    "from selenium import webdriver #導入瀏覽器\n",
    "from selenium.webdriver.common.by import By #導入選取器\n",
    "from selenium.webdriver.support.wait import WebDriverWait\n",
    "from selenium.webdriver.support import expected_conditions as EC\n",
    "from selenium.webdriver.chrome.options import Options #瀏覽器設定\n",
    "\n",
    "#瀏覽器設定\n",
    "option = webdriver.ChromeOptions() #讀取預設設定\n",
    "prefs = {\"profile.default_content_setting_values\":{\"notifications\":2}} #創建設定\n",
    "option.add_experimental_option(\"prefs\",prefs) #合併設定\n",
    "\n",
    "#開啟瀏覽器\n",
    "driver = webdriver.Chrome(\"C:\\\\Users\\\\user\\\\chromedriver.exe\",options=option)\n",
    "driver.get(\"https://zh-tw.facebook.com/\")\n",
    "\n",
    "#設置讀取網站的時間，直到(判斷可被點擊((選取目標))) #\"tag[attr_name=attr_value]\n",
    "account = WebDriverWait(driver,10).until(EC.element_to_be_clickable((By.CSS_SELECTOR,\"input[id='email']\")))\n",
    "account.send_keys(\"two86130@gmail.com\")\n",
    "password = WebDriverWait(driver,10).until(EC.element_to_be_clickable((By.CSS_SELECTOR,\"input[id='pass']\")))\n",
    "password.send_keys(\"Limitno2\")\n",
    "\n",
    "\n",
    "log = driver.find_element(By.CSS_SELECTOR,\"button[name='login']\")\n",
    "log.click()"
   ]
  },
  {
   "cell_type": "code",
   "execution_count": 23,
   "id": "625bae0f",
   "metadata": {},
   "outputs": [
    {
     "name": "stdout",
     "output_type": "stream",
     "text": [
      "[{'domain': '.facebook.com', 'httpOnly': False, 'name': 'presence', 'path': '/', 'sameSite': 'Lax', 'secure': True, 'value': 'C%7B%22t3%22%3A%5B%5D%2C%22utc3%22%3A1684909209698%2C%22v%22%3A1%7D'}, {'domain': '.facebook.com', 'expiry': 1692685202, 'httpOnly': True, 'name': 'fr', 'path': '/', 'sameSite': 'None', 'secure': True, 'value': '0NtvZCWTW0IAyjT1Y.AWVVMuITIMHdVpcfwFk4DIWMq_g.Bkba0U.sJ.AAA.0.0.Bkba0Z.AWWxvVY_-9Q'}, {'domain': '.facebook.com', 'expiry': 1716445198, 'httpOnly': True, 'name': 'xs', 'path': '/', 'sameSite': 'None', 'secure': True, 'value': '21%3A9_i-z8IT6lFQ8A%3A2%3A1684909334%3A-1%3A11326'}, {'domain': '.facebook.com', 'expiry': 1685513998, 'httpOnly': False, 'name': 'dpr', 'path': '/', 'sameSite': 'None', 'secure': True, 'value': '1.5'}, {'domain': '.facebook.com', 'expiry': 1719469198, 'httpOnly': True, 'name': 'datr', 'path': '/', 'sameSite': 'None', 'secure': True, 'value': 'FK1tZC85ANLjMjfHwYCo5oM7'}, {'domain': '.facebook.com', 'expiry': 1716445198, 'httpOnly': False, 'name': 'c_user', 'path': '/', 'sameSite': 'None', 'secure': True, 'value': '100003406731001'}, {'domain': '.facebook.com', 'expiry': 1685514006, 'httpOnly': False, 'name': 'wd', 'path': '/', 'sameSite': 'Lax', 'secure': True, 'value': '1036x521'}, {'domain': '.facebook.com', 'expiry': 1719469201, 'httpOnly': True, 'name': 'sb', 'path': '/', 'sameSite': 'None', 'secure': True, 'value': 'FK1tZHlq7MT28mMlAJpJcctG'}]\n"
     ]
    }
   ],
   "source": [
    "import json\n",
    "cookie = driver.get_cookies() #讀取瀏覽器上的所有cookie\n",
    "print(cookie)\n",
    "\n",
    "jsoncookie = json.dumps(cookie) #轉成json格式\n",
    "with open(\"facebook.json\",\"w\") as f: #以\"w寫入\"狀態開啟檔案\n",
    "    f.write(jsoncookie) #將資料寫入檔案"
   ]
  },
  {
   "cell_type": "code",
   "execution_count": 27,
   "id": "b7bcedac",
   "metadata": {},
   "outputs": [
    {
     "name": "stderr",
     "output_type": "stream",
     "text": [
      "C:\\Users\\user\\AppData\\Local\\Temp\\ipykernel_89104\\1389283487.py:13: DeprecationWarning: executable_path has been deprecated, please pass in a Service object\n",
      "  driver = webdriver.Chrome(\"C:\\\\Users\\\\user\\\\chromedriver.exe\",options=option)\n"
     ]
    },
    {
     "name": "stdout",
     "output_type": "stream",
     "text": [
      "{'domain': '.facebook.com', 'httpOnly': False, 'name': 'presence', 'path': '/', 'sameSite': 'Lax', 'secure': True, 'value': 'C%7B%22t3%22%3A%5B%5D%2C%22utc3%22%3A1684909209698%2C%22v%22%3A1%7D'}\n",
      "{'domain': '.facebook.com', 'expiry': 1692685202, 'httpOnly': True, 'name': 'fr', 'path': '/', 'sameSite': 'None', 'secure': True, 'value': '0NtvZCWTW0IAyjT1Y.AWVVMuITIMHdVpcfwFk4DIWMq_g.Bkba0U.sJ.AAA.0.0.Bkba0Z.AWWxvVY_-9Q'}\n",
      "{'domain': '.facebook.com', 'expiry': 1716445198, 'httpOnly': True, 'name': 'xs', 'path': '/', 'sameSite': 'None', 'secure': True, 'value': '21%3A9_i-z8IT6lFQ8A%3A2%3A1684909334%3A-1%3A11326'}\n",
      "{'domain': '.facebook.com', 'expiry': 1685513998, 'httpOnly': False, 'name': 'dpr', 'path': '/', 'sameSite': 'None', 'secure': True, 'value': '1.5'}\n",
      "{'domain': '.facebook.com', 'expiry': 1719469198, 'httpOnly': True, 'name': 'datr', 'path': '/', 'sameSite': 'None', 'secure': True, 'value': 'FK1tZC85ANLjMjfHwYCo5oM7'}\n",
      "{'domain': '.facebook.com', 'expiry': 1716445198, 'httpOnly': False, 'name': 'c_user', 'path': '/', 'sameSite': 'None', 'secure': True, 'value': '100003406731001'}\n",
      "{'domain': '.facebook.com', 'expiry': 1685514006, 'httpOnly': False, 'name': 'wd', 'path': '/', 'sameSite': 'Lax', 'secure': True, 'value': '1036x521'}\n",
      "{'domain': '.facebook.com', 'expiry': 1719469201, 'httpOnly': True, 'name': 'sb', 'path': '/', 'sameSite': 'None', 'secure': True, 'value': 'FK1tZHlq7MT28mMlAJpJcctG'}\n"
     ]
    }
   ],
   "source": [
    "from selenium import webdriver \n",
    "from selenium.webdriver.common.by import By \n",
    "from selenium.webdriver.support.wait import WebDriverWait\n",
    "from selenium.webdriver.support import expected_conditions as EC\n",
    "from selenium.webdriver.chrome.options import Options \n",
    "\n",
    "\n",
    "option = webdriver.ChromeOptions() \n",
    "prefs = {\"profile.default_content_setting_values\":{\"notifications\":2}} \n",
    "option.add_experimental_option(\"prefs\",prefs) \n",
    "\n",
    "\n",
    "driver = webdriver.Chrome(\"C:\\\\Users\\\\user\\\\chromedriver.exe\",options=option)\n",
    "driver.get(\"https://zh-tw.facebook.com/\")\n",
    "\n",
    "f1 = open(\"facebook.json\")\n",
    "cookies = json.loads(f1.read())\n",
    "\n",
    "for every in cookies:\n",
    "    #print(every)\n",
    "    driver.add_cookie(every)\n",
    "    \n",
    "f1.close()\n",
    "driver.refresh()   "
   ]
  }
 ],
 "metadata": {
  "kernelspec": {
   "display_name": "Python 3 (ipykernel)",
   "language": "python",
   "name": "python3"
  },
  "language_info": {
   "codemirror_mode": {
    "name": "ipython",
    "version": 3
   },
   "file_extension": ".py",
   "mimetype": "text/x-python",
   "name": "python",
   "nbconvert_exporter": "python",
   "pygments_lexer": "ipython3",
   "version": "3.10.9"
  }
 },
 "nbformat": 4,
 "nbformat_minor": 5
}
