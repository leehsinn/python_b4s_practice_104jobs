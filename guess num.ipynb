{
 "cells": [
  {
   "cell_type": "code",
   "execution_count": null,
   "id": "0fdbf02c",
   "metadata": {},
   "outputs": [
    {
     "name": "stdout",
     "output_type": "stream",
     "text": [
      "20\n",
      "請輸入20~100之間\n",
      "40\n",
      "請輸入40~100之間\n",
      "70\n",
      "請輸入40~70之間\n",
      "50\n",
      "請輸入50~70之間\n",
      "60\n",
      "請輸入60~70之間\n",
      "65\n",
      "請輸入65~70之間\n",
      "68\n",
      "請輸入68~70之間\n",
      "69\n",
      "win\n"
     ]
    }
   ],
   "source": [
    "mini=1\n",
    "maxm=100\n",
    "\n",
    "import random\n",
    "ans=random.randint(mini,maxm)\n",
    "win=True\n",
    "while win:\n",
    "    x=int(input())\n",
    "    if x==ans:\n",
    "        print(\"win\")\n",
    "        win=False\n",
    "    elif x<ans:\n",
    "        mini=x\n",
    "        print(\"請輸入\"+str(mini)+\"~\"+str(maxm)+\"之間\")\n",
    "        continue\n",
    "    elif x>ans:\n",
    "        maxm=x\n",
    "        print(\"請輸入\"+str(mini)+\"~\"+str(maxm)+\"之間\")\n",
    "        continue\n"
   ]
  },
  {
   "cell_type": "code",
   "execution_count": null,
   "id": "55886442",
   "metadata": {},
   "outputs": [],
   "source": []
  }
 ],
 "metadata": {
  "kernelspec": {
   "display_name": "Python 3 (ipykernel)",
   "language": "python",
   "name": "python3"
  },
  "language_info": {
   "codemirror_mode": {
    "name": "ipython",
    "version": 3
   },
   "file_extension": ".py",
   "mimetype": "text/x-python",
   "name": "python",
   "nbconvert_exporter": "python",
   "pygments_lexer": "ipython3",
   "version": "3.10.9"
  }
 },
 "nbformat": 4,
 "nbformat_minor": 5
}
