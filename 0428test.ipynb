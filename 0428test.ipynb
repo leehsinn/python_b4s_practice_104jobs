{
 "cells": [
  {
   "cell_type": "code",
   "execution_count": 1,
   "id": "ae470bd3",
   "metadata": {},
   "outputs": [
    {
     "name": "stdout",
     "output_type": "stream",
     "text": [
      "5\n",
      "141.7476155\n"
     ]
    }
   ],
   "source": [
    "oz=float(input())\n",
    "g=oz*28.3495231\n",
    "\n",
    "print(g)"
   ]
  },
  {
   "cell_type": "code",
   "execution_count": 2,
   "id": "603daf07",
   "metadata": {},
   "outputs": [
    {
     "name": "stdout",
     "output_type": "stream",
     "text": [
      "aa\n",
      "bb\n",
      "oz3.2\n",
      "90.7184\n"
     ]
    }
   ],
   "source": [
    "def my_first_func():\n",
    "    print(\"bb\")  #順序2-1開始跑func\n",
    "    oz=float(input(\"oz\"))\n",
    "    gram=oz*28.3495\n",
    "    print(gram)\n",
    "\n",
    "print(\"aa\")      #順序1\n",
    "my_first_func()  #順序2進入func"
   ]
  },
  {
   "cell_type": "code",
   "execution_count": 5,
   "id": "fde6d69d",
   "metadata": {},
   "outputs": [
    {
     "name": "stdout",
     "output_type": "stream",
     "text": [
      "分鐘68\n",
      "1.13 小時\n"
     ]
    }
   ],
   "source": [
    "def mintohour():\n",
    "    mins=int(input(\"分鐘\"))\n",
    "    hour=mins/60\n",
    "    print(round(hour,2),\"小時\")\n",
    "\n",
    "mintohour()"
   ]
  }
 ],
 "metadata": {
  "kernelspec": {
   "display_name": "Python 3 (ipykernel)",
   "language": "python",
   "name": "python3"
  },
  "language_info": {
   "codemirror_mode": {
    "name": "ipython",
    "version": 3
   },
   "file_extension": ".py",
   "mimetype": "text/x-python",
   "name": "python",
   "nbconvert_exporter": "python",
   "pygments_lexer": "ipython3",
   "version": "3.10.9"
  }
 },
 "nbformat": 4,
 "nbformat_minor": 5
}
