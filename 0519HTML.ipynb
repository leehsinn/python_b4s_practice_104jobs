{
 "cells": [
  {
   "cell_type": "code",
   "execution_count": 7,
   "id": "b4e49a9d",
   "metadata": {},
   "outputs": [
    {
     "name": "stdout",
     "output_type": "stream",
     "text": [
      "None\n",
      "職缺：大數據工程師 \n",
      "職缺： \n",
      "職缺： \n",
      "https://www.1111.com.tw/search/job?ks=%E5%A4%A7%E6%95%B8%E6%93%9A\n",
      "['abc']\n"
     ]
    }
   ],
   "source": [
    "from bs4 import BeautifulSoup\n",
    "\n",
    "web=\"\"\"\n",
    "<html>\n",
    "  <head>\n",
    "     <a href=\"https://www.1111.com.tw/search/job?ks=%E5%A4%A7%E6%95%B8%E6%93%9A\" >這是一行字</a>\n",
    "     <a> 第2行 </a>\n",
    "     <a> 第3行 </a>\n",
    "  </head>\n",
    "  <body>\n",
    "\t<h1 class=\"abc\" href=\"123\">abc</h1>\n",
    "\t<a> 第4行 </a>\n",
    "    <a> 第5行 </a>\n",
    "\t<h1 class=\"job\">職缺：<h2>大數據工程師</h2> </h1>\n",
    "  </body>\n",
    "</html>\"\"\"\n",
    "\n",
    "soup = BeautifulSoup(web)\n",
    "print(soup.find(\"h1\",class_=\"job\").string) #只有文字才可以\n",
    "print(soup.find(\"h1\",class_=\"job\").text)\n",
    "print(soup.find(\"h1\",class_=\"job\").text.replace(soup.find(\"h1\",class_=\"job\").h2.string,\"\"))\n",
    "print(soup.find(\"h1\",class_=\"job\").text.replace(soup.h2.string,\"\"))\n",
    "print(soup.a[\"href\"]) #查屬性質用中括號\n"
   ]
  },
  {
   "cell_type": "code",
   "execution_count": null,
   "id": "7c55cce1",
   "metadata": {},
   "outputs": [],
   "source": []
  }
 ],
 "metadata": {
  "kernelspec": {
   "display_name": "Python 3 (ipykernel)",
   "language": "python",
   "name": "python3"
  },
  "language_info": {
   "codemirror_mode": {
    "name": "ipython",
    "version": 3
   },
   "file_extension": ".py",
   "mimetype": "text/x-python",
   "name": "python",
   "nbconvert_exporter": "python",
   "pygments_lexer": "ipython3",
   "version": "3.10.9"
  }
 },
 "nbformat": 4,
 "nbformat_minor": 5
}
