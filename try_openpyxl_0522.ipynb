{
 "cells": [
  {
   "cell_type": "code",
   "execution_count": 3,
   "id": "99f0cc2e",
   "metadata": {},
   "outputs": [],
   "source": [
    "import openpyxl\n",
    "\n",
    "wb = openpyxl.Workbook()\n",
    "ws = wb.active\n",
    "\n",
    "ws[\"A1\"] = \"職缺名稱\"\n",
    "ws[\"B1\"] = \"職缺連結\"\n",
    "ws[\"C1\"] = \"公司名稱\"\n",
    "ws[\"D1\"] = \"工作地區\"\n",
    "ws[\"E1\"] = \"薪資待遇\"\n",
    "\n",
    "ws.append([1,2,3,4,5]) #整列填入\n",
    "\n",
    "wb.save(\"excel測試0522.xlsx\")"
   ]
  }
 ],
 "metadata": {
  "kernelspec": {
   "display_name": "Python 3 (ipykernel)",
   "language": "python",
   "name": "python3"
  },
  "language_info": {
   "codemirror_mode": {
    "name": "ipython",
    "version": 3
   },
   "file_extension": ".py",
   "mimetype": "text/x-python",
   "name": "python",
   "nbconvert_exporter": "python",
   "pygments_lexer": "ipython3",
   "version": "3.10.9"
  }
 },
 "nbformat": 4,
 "nbformat_minor": 5
}
