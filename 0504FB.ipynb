{
 "cells": [
  {
   "cell_type": "code",
   "execution_count": 62,
   "id": "6d20b3b9",
   "metadata": {},
   "outputs": [
    {
     "name": "stdout",
     "output_type": "stream",
     "text": [
      "{'error': {'message': 'An active access token must be used to query information about the current user.', 'type': 'OAuthException', 'code': 2500, 'fbtrace_id': 'ARBAJ36rJ5prpLgweiUnOYq'}}\n"
     ]
    }
   ],
   "source": [
    "#import requests\n",
    "#import json #fb叫出來的是json程式碼\n",
    "\n",
    "#token=\"EAADPMIE2YHYBALOB6AiTp95jz1W4G09p89ZB2QiRmpoQSsjEXWZA7G9LHLe91u5dXQzYNaOLBqqwxFL1KT4tJtcF9kOgJ3c3hSJf0ZCOnjNUY2rSjqNDlZCUSLwjF6S3EVoc5qFoKhIQ5s8DZBIUBILKANMc5euUQNIZBlXV0MJiscPZBQejYCViYVgTK5fAiLZChZC8qrZBkMApI626HNBb2ZB\"\n",
    "#res=requests.get(\"https://graph.facebook.com/v16.0/me/posts?access_token\"+token)\n",
    "#jd=json.loads(res.text) #用load翻譯\n",
    "\n",
    "#print(jd)\n"
   ]
  },
  {
   "cell_type": "code",
   "execution_count": 40,
   "id": "d4e542e9",
   "metadata": {},
   "outputs": [
    {
     "name": "stdout",
     "output_type": "stream",
     "text": [
      "平安夜來板橋流浪動物之家當志工🎄\n",
      "\n",
      "第一次來到流浪動物之家心情滿複雜的，現階段能做的不多，只能分享了。推薦大家假日沒事也可以私訊 #板橋動物之家_志工隊 報名。短短兩個小時與其說是來陪狗狗，更像是來被狗狗療癒，這就是毛小孩的力量阿～\n",
      "\n",
      "介紹一下當天遛我的兩隻可愛狗狗🐕‍🦺\n",
      "\n",
      "1️⃣Open將（舊B1/編號2020071403）\n",
      "完全走在我審美上的帥氣的小黑狗🤣身體修長、皮毛柔順、眼睛水亮亮！吃東西超溫馴（輕輕從手上叼走）個性比較怕生需要一點時間相處，終於摸到open將的那一刻真的是好感動🥹帥帥又乖巧的狗狗等著被看見\n",
      "\n",
      "2️⃣ 香香（舊B15/編號2018120704）\n",
      "是隻體型嬌小的小女生，小家碧玉樣做什麼都好秀氣～很黏照顧她的志工（看到志工姊姊那個尾巴沒有在含蓄的ㄟ）是很適合小家庭飼養的狗狗喔，愛她的主人就是香香的全世界❤️‍🔥\n",
      "\n",
      "ps耳朵比較大臉比較尖的瘦瘦是open將；嘴巴圓圓小小隻的是香香\n",
      "\n",
      "#領養代替購買不棄養\n",
      "#養牠ㄧ輩子\n",
      "#你是狗狗的全世界\n",
      "懇請大家救救大四生的專題😳\n",
      "爸脫爸脫～有填期末有保庇恭喜發大財\n",
      "\n",
      "\n",
      "我也來打個阿哈哈哈我像隻奇怪的🦉\n",
      "88高希均知經室🎉🎉🎉😂\n",
      "不是我自賣自誇拉，真的是一個可以學到很多的活動～\n",
      "有興趣的快報名👍\n",
      "笑的好尷尬😅\n",
      "重點～03/28大家來看表演吧☺☺☺\n",
      "（但沒有被番茄醬砸的我了）\n",
      "94明天～刷起來刷起來\n",
      "有興趣有空的來捧個場吧😌😌😌\n",
      "沒空的 替我點連結按個讚\n",
      "保佑你平平安安快快樂樂心想事成財源滾滾來\n",
      "來哦～～\n",
      "請大家多多關注粉絲專頁辣，沒空的按個讚有空的捧個場，路過不要錯過拉👏👏👏\n",
      "這個禮拜就有Student conference的活動哦，快來報名😬😬😬\n",
      "3/9晚上大家沒事的可以考慮來看看我拉😏😏\n",
      "18：40我們在圓廳正廣等你喔喔哦哦\n",
      "小時候有次我媽載我出門，路上遇到人攔車，然後我媽就叫我蹲前面載那個阿姨趕車，那時候我還問我媽說你怎麼會願意載不認識的人阿？！\n",
      "結果沒想到剛在我身上發生一樣的事……\n",
      "悠遊卡不知道為什壞掉沒辦法騎ubike，腳踏車也不在身邊，我想乾我完蛋了清晨五點多沒人可以救我阿，只好開始跑，跑到剩下10分鐘卻還有一段路時已經覺得快昏倒，路口有一個阿姨在等紅燈我就鼓起勇氣問她可不可以載我一程，然後她說了快上車就把我載到火車站了😭😭😭😭\n",
      "\n",
      "真想祝剛剛的阿姨一百次新年快樂阿，多虧有她讓我波折之後順利坐上火車💕💕～待會到家也要順便感謝我媽～不過真的是嚇死我了怎麼每次回家都波折連連阿\n",
      "\n",
      "但終於可以回家過年ㄌㄌㄌㄌㄌ🎇🎇\n",
      "\n",
      "#覺得台灣還是很溫暖的\n",
      "吃吃癡癡痴痴漢\n",
      "(回家之後一直睡害我現在睡不著)(半夜最適合反芻了)\n",
      "大ㄧ就這麼樣結束了，很快，也很漫長。\n",
      "實質而言這一年其實過的蠻廢的，時間許多都用在不知所措上。畢業時其實對大學生活有許多期許，很多方面想重新開始，結果通通跌到谷底淒淒慘淒淒。\n",
      "一年發生的事，很多(惹的禍，也很多)，曾經很痛苦，但我真的很謝謝這一年！確實，昆蟲系當時並非我的志願，但它對我而言並不是跳板。我很慶幸當初的(天真逼近愚蠢的)勇氣讓我進來了這個系，體驗許多不曾經歷過的，也碰到不少的挫折(例如寫到崩潰的微積分考卷哈哈)，一切也都咬牙切齒死纏爛打的過來了。 也有很多開心的回憶像是宿營，還有打了好久的籃球新生盃，讓我交到一群奇怪的朋友。\n",
      "我其實很害怕改變。如果沒有這一年，我不會這麼認真的思考我想得到什麼、擅長什麼，即使現在我還是不大清楚，但多少前進了一些。曾經我覺得自己是何苦，繞了一圈還是轉回來， (雖然聽起來有點矯情) 但或許，就是多看了些風景吧！\n",
      "這一年要謝謝的人太多了，也對不起我曾經造成過不少人的困擾。覺得自己很幸運，這一年以我人際關係處理之爛，卻總是碰到對我很好的人。像是包容陪伴我的人，還有很多幫助過我的，真的都很感謝。\n",
      "很多可以開始懷念的，那些和大家一起抓蟲(玩)的回憶。還有系排，最捨不得的吧，可以和大家一起練球、比賽、成為一份子真的很開心。我一定會回去騷擾大家的。\n",
      "總之希望經過這一年的自己可以更長進ㄚ，然後不要再愛哭了 ～\n",
      "大ㄧ掰掰👋暑假來吧💓\n",
      "請在以下選出不一樣門的選項\n",
      "(期中，室友也是瘋了)\n",
      "導盲犬介紹哦～～～\n",
      "值得看看摸摸狗😍😍\n",
      "20151001\n",
      "我們是中興大學青春洋溢的鎮高代言人\n",
      "身為平鎮人覺得很驕傲ㄚ\n",
      "阿阿時間過好快\n",
      "以為自己才如他們一般剛宣幹、或要準備成發，ㄧ眨眼高中生涯卻結束了，想想還是不可思議阿！！\n",
      "我真的覺得，因為加入平鎮熱音，我的高中生活很熱血很精彩\n",
      "#平鎮熱音 #10th #萬萬屆\n",
      "好看好看好感動～祝大家畢業快樂～耶～\n"
     ]
    }
   ],
   "source": [
    "for a in jd['data']:  \n",
    "    if \"message\" in a:\n",
    "        print(a[\"message\"]) #叫文字出來"
   ]
  },
  {
   "cell_type": "code",
   "execution_count": 52,
   "id": "b3d6a2e7",
   "metadata": {},
   "outputs": [
    {
     "name": "stdout",
     "output_type": "stream",
     "text": [
      "https://graph.facebook.com/v16.0/5959459227510909/posts?access_token=EAADPMIE2YHYBALOB6AiTp95jz1W4G09p89ZB2QiRmpoQSsjEXWZA7G9LHLe91u5dXQzYNaOLBqqwxFL1KT4tJtcF9kOgJ3c3hSJf0ZCOnjNUY2rSjqNDlZCUSLwjF6S3EVoc5qFoKhIQ5s8DZBIUBILKANMc5euUQNIZBlXV0MJiscPZBQejYCViYVgTK5fAiLZChZC8qrZBkMApI626HNBb2ZB&until=1353213866&since&__paging_token=enc_AdDV2YrdeFIbtVEDO8IEZCa8EXPaBKZBRHCFDR8n4m9znVOZCNnjePy8GsKBZAkdhvVLHH2EuUWD7Q6zOlHSwNjYZAkw7NVli39SarlqKpF6Ds1lzDwZDZD&__previous\n"
     ]
    }
   ],
   "source": [
    "print(jd[\"paging\"]['next'])"
   ]
  },
  {
   "cell_type": "code",
   "execution_count": 36,
   "id": "4536203e",
   "metadata": {},
   "outputs": [
    {
     "name": "stdout",
     "output_type": "stream",
     "text": [
      "2022-12-27T12:18:48+0000\n",
      "2020-11-02T13:52:44+0000\n",
      "2018-12-14T03:17:39+0000\n",
      "2018-05-25T05:59:40+0000\n",
      "2018-04-07T14:36:31+0000\n",
      "2018-03-14T13:54:06+0000\n",
      "2017-11-21T14:59:12+0000\n",
      "2017-10-23T14:58:28+0000\n",
      "2017-03-02T02:24:38+0000\n",
      "2017-01-26T22:28:22+0000\n",
      "2016-12-12T15:31:37+0000\n",
      "2016-08-19T06:32:51+0000\n",
      "2016-06-30T16:32:49+0000\n",
      "2016-04-11T15:54:16+0000\n",
      "2016-01-16T07:25:14+0000\n",
      "2012-11-18T04:44:26+0000\n",
      "2015-12-31T12:24:32+0000\n",
      "2015-10-01T13:24:49+0000\n",
      "2015-06-17T13:21:11+0000\n",
      "2015-06-15T13:47:21+0000\n"
     ]
    }
   ],
   "source": [
    "for a in jd['data']:\n",
    "    print(a['created_time'])"
   ]
  },
  {
   "cell_type": "code",
   "execution_count": 56,
   "id": "ddc3719d",
   "metadata": {},
   "outputs": [
    {
     "name": "stdout",
     "output_type": "stream",
     "text": [
      "{'data': [{'created_time': '2012-11-10T13:50:32+0000', 'message': '哈哈今天好棒\\n\\n還好我第1棒都沒有ㄌㄠˋ掉\\n異程起跑好爽\\n雖然我其實不太會用xd\\n第1爽呀\\n\\n113真的優哦\\n盡力了很棒了\\n\\n今天拍了好多照片哈哈~\\n御用攝影師\\n\\n腳有點小酸ㄎㄎ\\n然後我覺得吃香蕉真的有用:>\\n我有點懶的標人......', 'id': '5959459227510909_262866447170244'}, {'created_time': '2012-11-10T13:31:25+0000', 'id': '5959459227510909_262856347171254'}, {'created_time': '2012-11-10T13:02:07+0000', 'id': '5959459227510909_262850543838501'}, {'created_time': '2012-09-26T14:13:15+0000', 'message': '失望總之', 'id': '5959459227510909_246364335487122'}, {'created_time': '2012-09-07T12:38:29+0000', 'message': '才上一週的課就好累ˊˋ\\n天呀', 'id': '5959459227510909_239781609478728'}, {'created_time': '2012-09-02T05:16:47+0000', 'id': '5959459227510909_1119678835419957'}, {'created_time': '2012-07-07T03:05:46+0000', 'message': '申請上照理說要很開心....\\n落點根本亂估:<\\n好不甘心喔\\n\\n接下來三年好好努力吧\\n大學比較重要!!\\n\\n平鎮也不錯:>>>>', 'id': '5959459227510909_219069991549890'}, {'created_time': '2012-06-21T14:09:21+0000', 'id': '5959459227510909_822199699205996'}, {'created_time': '2012-04-01T07:11:25+0000', 'message': '好多人今天解脫了！\\n基測倒數中，我卻好像一點進步也沒有：＜', 'id': '5959459227510909_160280224095534'}, {'created_time': '2012-03-10T12:56:55+0000', 'message': '適可而止!!', 'id': '5959459227510909_146667722123451'}, {'created_time': '2012-03-02T11:54:50+0000', 'message': '唱作俱佳!\\n好阿:)', 'id': '5959459227510909_141562522633971'}, {'created_time': '2012-02-27T07:48:50+0000', 'message': '中原!', 'id': '5959459227510909_138960152894208'}, {'created_time': '2012-02-27T07:42:55+0000', 'id': '5959459227510909_138958352894388'}, {'created_time': '2012-07-10T07:28:05+0000', 'id': '5959459227510909_220078188115737'}, {'created_time': '1997-01-30T08:00:00+0000', 'id': '5959459227510909_576630009127218'}], 'paging': {'previous': 'https://graph.facebook.com/v16.0/5959459227510909/posts?access_token=EAADPMIE2YHYBALOB6AiTp95jz1W4G09p89ZB2QiRmpoQSsjEXWZA7G9LHLe91u5dXQzYNaOLBqqwxFL1KT4tJtcF9kOgJ3c3hSJf0ZCOnjNUY2rSjqNDlZCUSLwjF6S3EVoc5qFoKhIQ5s8DZBIUBILKANMc5euUQNIZBlXV0MJiscPZBQejYCViYVgTK5fAiLZChZC8qrZBkMApI626HNBb2ZB&since=1352555432&until&__previous=1&__paging_token=enc_AdCt1WISxHvjtgJFmlyhK22eXNLbHQ0XUPNTxhddDdMdroZCjaephaqOA1UfPJB2WYxZCkIb737sibYdX8t2KtP4nZCQzdVbc89Ge1tYbpdo6L0XwZDZD', 'next': 'https://graph.facebook.com/v16.0/5959459227510909/posts?access_token=EAADPMIE2YHYBALOB6AiTp95jz1W4G09p89ZB2QiRmpoQSsjEXWZA7G9LHLe91u5dXQzYNaOLBqqwxFL1KT4tJtcF9kOgJ3c3hSJf0ZCOnjNUY2rSjqNDlZCUSLwjF6S3EVoc5qFoKhIQ5s8DZBIUBILKANMc5euUQNIZBlXV0MJiscPZBQejYCViYVgTK5fAiLZChZC8qrZBkMApI626HNBb2ZB&since&until=854611200&__paging_token=enc_AdBqTUHQXgTzTj5lKEYtU5kYwsL8iLC5AGaNkrZA4TmlXgijHBwiPjm81GPeOE5dXUOZBHGPb9ITCMM2D3qoitzjmqZACIYSC0ZBuDLjVd32eFMqfwZDZD&__previous'}}\n"
     ]
    }
   ],
   "source": [
    "#取第二頁文字出來\n",
    "page2=jd[\"paging\"]['next'] #第二頁連結\n",
    "\n",
    "res2=requests.get(page2)\n",
    "jd2=json.loads(res2.text)\n",
    "print(jd2)\n"
   ]
  },
  {
   "cell_type": "code",
   "execution_count": 57,
   "id": "bc2003da",
   "metadata": {},
   "outputs": [
    {
     "name": "stdout",
     "output_type": "stream",
     "text": [
      "哈哈今天好棒\n",
      "\n",
      "還好我第1棒都沒有ㄌㄠˋ掉\n",
      "異程起跑好爽\n",
      "雖然我其實不太會用xd\n",
      "第1爽呀\n",
      "\n",
      "113真的優哦\n",
      "盡力了很棒了\n",
      "\n",
      "今天拍了好多照片哈哈~\n",
      "御用攝影師\n",
      "\n",
      "腳有點小酸ㄎㄎ\n",
      "然後我覺得吃香蕉真的有用:>\n",
      "我有點懶的標人......\n",
      "失望總之\n",
      "才上一週的課就好累ˊˋ\n",
      "天呀\n",
      "申請上照理說要很開心....\n",
      "落點根本亂估:<\n",
      "好不甘心喔\n",
      "\n",
      "接下來三年好好努力吧\n",
      "大學比較重要!!\n",
      "\n",
      "平鎮也不錯:>>>>\n",
      "好多人今天解脫了！\n",
      "基測倒數中，我卻好像一點進步也沒有：＜\n",
      "適可而止!!\n",
      "唱作俱佳!\n",
      "好阿:)\n",
      "中原!\n"
     ]
    }
   ],
   "source": [
    "for b in jd2['data']:\n",
    "    if \"message\" in b:\n",
    "        print(b[\"message\"])"
   ]
  },
  {
   "cell_type": "code",
   "execution_count": 1,
   "id": "67945868",
   "metadata": {},
   "outputs": [
    {
     "ename": "KeyError",
     "evalue": "'data'",
     "output_type": "error",
     "traceback": [
      "\u001b[1;31m---------------------------------------------------------------------------\u001b[0m",
      "\u001b[1;31mKeyError\u001b[0m                                  Traceback (most recent call last)",
      "Cell \u001b[1;32mIn[1], line 10\u001b[0m\n\u001b[0;32m      7\u001b[0m jd\u001b[38;5;241m=\u001b[39mjson\u001b[38;5;241m.\u001b[39mloads(res\u001b[38;5;241m.\u001b[39mtext) \u001b[38;5;66;03m#用load翻譯\u001b[39;00m\n\u001b[0;32m      8\u001b[0m page\u001b[38;5;241m=\u001b[39m\u001b[38;5;241m0\u001b[39m \u001b[38;5;66;03m#計數器功能\u001b[39;00m\n\u001b[1;32m---> 10\u001b[0m \u001b[38;5;28;01mwhile\u001b[39;00m \u001b[43mjd\u001b[49m\u001b[43m[\u001b[49m\u001b[38;5;124;43m'\u001b[39;49m\u001b[38;5;124;43mdata\u001b[39;49m\u001b[38;5;124;43m'\u001b[39;49m\u001b[43m]\u001b[49m \u001b[38;5;241m!=\u001b[39m[]: \u001b[38;5;66;03m#有東西就會一直跑\u001b[39;00m\n\u001b[0;32m     11\u001b[0m     \u001b[38;5;28;01mfor\u001b[39;00m post \u001b[38;5;129;01min\u001b[39;00m jd[\u001b[38;5;124m'\u001b[39m\u001b[38;5;124mdata\u001b[39m\u001b[38;5;124m'\u001b[39m]:\n\u001b[0;32m     12\u001b[0m         \u001b[38;5;28;01mif\u001b[39;00m \u001b[38;5;124m\"\u001b[39m\u001b[38;5;124mmessage\u001b[39m\u001b[38;5;124m\"\u001b[39m \u001b[38;5;129;01min\u001b[39;00m post:\n",
      "\u001b[1;31mKeyError\u001b[0m: 'data'"
     ]
    }
   ],
   "source": [
    "import requests\n",
    "import json #fb叫出來的是json程式碼\n",
    "import time #控制抓資料的時間，避免被鎖\n",
    "\n",
    "token=\"EAADPMIE2YHYBAMMzIZC4ZCZA0E3MLwZAw6MnXS1GNMD3Q71ZBRMFaZAvPty2dxLpgNFLp7p5IDQLypdloHY3uZAYSY3ppfXVQpJhJkwmkeo2kpA5DCdFPfZAI5KumJKwwVyOzYbCijqCIZA2pDiRzcCm9wUOplp10UJzHWHSfR4KZAqUQR8uq2d1ntWQa7rQe9TCP8uaZCt02AgRcJTqYxtN5JR\"\n",
    "res=requests.get(\"https://graph.facebook.com/v16.0/me/posts?access_token\"+token)\n",
    "jd=json.loads(res.text) #用load翻譯\n",
    "page=0 #計數器功能\n",
    "\n",
    "while jd['data'] !=[]: #有東西就會一直跑\n",
    "    for post in jd['data']:\n",
    "        if \"message\" in post:\n",
    "            print(post[\"message\"])\n",
    "    res=request.get(jd[\"paging\"]['next'])\n",
    "    jd=json.loads(res.text)\n",
    "    time.sleep(5)\n",
    "    page+=1\n",
    "    print(page)\n"
   ]
  },
  {
   "cell_type": "code",
   "execution_count": null,
   "id": "f65c0b6e",
   "metadata": {},
   "outputs": [],
   "source": []
  }
 ],
 "metadata": {
  "kernelspec": {
   "display_name": "Python 3 (ipykernel)",
   "language": "python",
   "name": "python3"
  },
  "language_info": {
   "codemirror_mode": {
    "name": "ipython",
    "version": 3
   },
   "file_extension": ".py",
   "mimetype": "text/x-python",
   "name": "python",
   "nbconvert_exporter": "python",
   "pygments_lexer": "ipython3",
   "version": "3.10.9"
  }
 },
 "nbformat": 4,
 "nbformat_minor": 5
}
