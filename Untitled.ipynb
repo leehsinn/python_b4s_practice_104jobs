{
 "cells": [
  {
   "cell_type": "code",
   "execution_count": 5,
   "id": "ccc54827",
   "metadata": {},
   "outputs": [
    {
     "name": "stdout",
     "output_type": "stream",
     "text": [
      "{'error': {'message': 'An active access token must be used to query information about the current user.', 'type': 'OAuthException', 'code': 2500, 'fbtrace_id': 'AyTOgH0NIbvflCXeXYt7qgU'}}\n"
     ]
    }
   ],
   "source": [
    "import requests\n",
    "import json #fb叫出來的是json程式碼\n",
    "import time #控制抓資料的時間，避免被鎖\n",
    "\n",
    "\n",
    "jd=json.loads(res.text) #用load翻譯\n",
    "page=0 #計數器功能\n",
    "\n",
    "print(jd)"
   ]
  },
  {
   "cell_type": "code",
   "execution_count": null,
   "id": "9a762d74",
   "metadata": {},
   "outputs": [],
   "source": [
    "\n",
    "while jd[\"data\"] !=[]:\n",
    "    for post in jd[\"data\"]:\n",
    "        if \"message\" in post:\n",
    "            print(post[\"message\"])\n",
    "    res=request.get(jd[\"paging\"]['next'])\n",
    "    jd=json.loads(res.text)\n",
    "    time.sleep(5)\n",
    "    page+=1\n",
    "    print(page)"
   ]
  }
 ],
 "metadata": {
  "kernelspec": {
   "display_name": "Python 3 (ipykernel)",
   "language": "python",
   "name": "python3"
  },
  "language_info": {
   "codemirror_mode": {
    "name": "ipython",
    "version": 3
   },
   "file_extension": ".py",
   "mimetype": "text/x-python",
   "name": "python",
   "nbconvert_exporter": "python",
   "pygments_lexer": "ipython3",
   "version": "3.10.9"
  }
 },
 "nbformat": 4,
 "nbformat_minor": 5
}
