{
 "cells": [
  {
   "cell_type": "code",
   "execution_count": 1,
   "id": "6c482ef8",
   "metadata": {},
   "outputs": [
    {
     "name": "stdout",
     "output_type": "stream",
     "text": [
      "月薪\n",
      "50000\n",
      "50000\n"
     ]
    }
   ],
   "source": [
    "#e = \"月薪35,000~95,000元\"\n",
    "e = \"月薪50,000元\"\n",
    "#e = \"論件計酬200~3,000元\"\n",
    "\n",
    "f = e[:2]\n",
    "\n",
    "#刪除無用字元\n",
    "salary = \"\"\n",
    "for char in e:\n",
    "    if char.isdigit() or char==\"~\":\n",
    "        salary += char\n",
    "#print(salary)\n",
    "\n",
    "if \"~\" in salary:\n",
    "    low = salary[:salary.find(\"~\")]\n",
    "    high = salary[salary.find(\"~\")+1:]\n",
    "else:\n",
    "    low=high=salary\n",
    "\n",
    "g = int(low)\n",
    "h = int(high)\n",
    "    \n",
    "print(f)\n",
    "print(low)\n",
    "print(high)"
   ]
  },
  {
   "cell_type": "code",
   "execution_count": 5,
   "id": "2ce39f86",
   "metadata": {},
   "outputs": [
    {
     "name": "stdout",
     "output_type": "stream",
     "text": [
      "False\n",
      "0\n"
     ]
    }
   ],
   "source": [
    "#判斷是不是數字\n",
    "\n",
    "a = \"python\"\n",
    "\n",
    "print(a.isdigit())\n",
    "print(a.find(\"p\"))"
   ]
  }
 ],
 "metadata": {
  "kernelspec": {
   "display_name": "Python 3 (ipykernel)",
   "language": "python",
   "name": "python3"
  },
  "language_info": {
   "codemirror_mode": {
    "name": "ipython",
    "version": 3
   },
   "file_extension": ".py",
   "mimetype": "text/x-python",
   "name": "python",
   "nbconvert_exporter": "python",
   "pygments_lexer": "ipython3",
   "version": "3.10.9"
  }
 },
 "nbformat": 4,
 "nbformat_minor": 5
}
