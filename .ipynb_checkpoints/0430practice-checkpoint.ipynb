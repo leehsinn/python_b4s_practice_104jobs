{
 "cells": [
  {
   "cell_type": "code",
   "execution_count": 3,
   "id": "fc62278f",
   "metadata": {},
   "outputs": [
    {
     "name": "stdout",
     "output_type": "stream",
     "text": [
      "2\n",
      "3\n",
      "4\n",
      "5\n",
      "6\n",
      "7\n",
      "8\n",
      "9\n",
      "10\n",
      "11\n",
      "55\n"
     ]
    }
   ],
   "source": [
    "#while loop\n",
    "\n",
    "n=1\n",
    "sum=0\n",
    "\n",
    "while n<=10:\n",
    "    sum=sum+n\n",
    "    n+=1\n",
    "    print(n)\n",
    "    \n",
    "print(sum)"
   ]
  },
  {
   "cell_type": "code",
   "execution_count": 8,
   "id": "3778c2e5",
   "metadata": {},
   "outputs": [
    {
     "name": "stdout",
     "output_type": "stream",
     "text": [
      "1\n",
      "2\n",
      "3\n",
      "4\n",
      "5\n",
      "6\n",
      "7\n",
      "8\n",
      "9\n",
      "10\n",
      "55\n"
     ]
    }
   ],
   "source": [
    "#for loop\n",
    "\n",
    "sun=0\n",
    "\n",
    "for s in range(1,11):\n",
    "    sun=sun+s\n",
    "    print(s)\n",
    "\n",
    "print(sun)"
   ]
  },
  {
   "cell_type": "code",
   "execution_count": 12,
   "id": "697e17ea",
   "metadata": {},
   "outputs": [
    {
     "name": "stdout",
     "output_type": "stream",
     "text": [
      "1\n",
      "1\n",
      "2\n",
      "3\n",
      "5\n",
      "8\n",
      "13\n",
      "21\n",
      "34\n",
      "55\n",
      "89\n",
      "144\n",
      "233\n"
     ]
    }
   ],
   "source": [
    "#while費式數列\n",
    "\n",
    "a=1\n",
    "b=0\n",
    "save=0\n",
    "\n",
    "while a<=100:\n",
    "    save=a+b\n",
    "    a=b\n",
    "    b=save\n",
    "    print(save)"
   ]
  },
  {
   "cell_type": "code",
   "execution_count": 29,
   "id": "bd2cb835",
   "metadata": {},
   "outputs": [
    {
     "name": "stdout",
     "output_type": "stream",
     "text": [
      "1\n",
      "2\n",
      "3\n",
      "5\n",
      "8\n",
      "13\n",
      "21\n",
      "34\n",
      "55\n",
      "89\n"
     ]
    }
   ],
   "source": [
    "#for費式數列\n",
    "\n",
    "aa=0\n",
    "bb=1\n",
    "c=0 #暫存\n",
    "\n",
    "for c in range(10):\n",
    "    c=aa+bb\n",
    "    aa=bb\n",
    "    bb=c\n",
    "    \n",
    "    print(c)"
   ]
  },
  {
   "cell_type": "code",
   "execution_count": 31,
   "id": "e231c371",
   "metadata": {},
   "outputs": [
    {
     "name": "stdout",
     "output_type": "stream",
     "text": [
      "act\n",
      "ecitcarp\n"
     ]
    }
   ],
   "source": [
    "word=\"practice\"\n",
    "\n",
    "print(word[2:5])\n",
    "print(word[::-1])"
   ]
  },
  {
   "cell_type": "code",
   "execution_count": 33,
   "id": "edb5613f",
   "metadata": {},
   "outputs": [
    {
     "name": "stdout",
     "output_type": "stream",
     "text": [
      "g\n",
      "6\n",
      "a\n"
     ]
    }
   ],
   "source": [
    "list=[3,\"go\",[678,\"56\",\"cola\",[[[[6]]]]]]\n",
    "\n",
    "print(list[1][0])\n",
    "print(list[2][3][0][0][0][0])\n",
    "print(list[2][2][3])"
   ]
  },
  {
   "cell_type": "markdown",
   "id": "bc19008c",
   "metadata": {},
   "source": []
  },
  {
   "cell_type": "code",
   "execution_count": 34,
   "id": "d6cb5e8c",
   "metadata": {},
   "outputs": [
    {
     "name": "stdout",
     "output_type": "stream",
     "text": [
      "40\n"
     ]
    }
   ],
   "source": [
    "menu={\"奶茶\":30,\"冬瓜茶\":25,\"烏龍茶\":20}\n",
    "sth={\"珍珠\":10,\"椰果\":8,\"仙草凍\":5}\n",
    "\n",
    "print(menu[\"奶茶\"]+sth[\"珍珠\"])"
   ]
  },
  {
   "cell_type": "code",
   "execution_count": 44,
   "id": "d105d032",
   "metadata": {},
   "outputs": [
    {
     "name": "stdout",
     "output_type": "stream",
     "text": [
      "1*1=1  1*2=2  1*3=3  1*4=4  1*5=5  1*6=6  1*7=7  1*8=8  1*9=9  \n",
      "2*1=2  2*2=4  2*3=6  2*4=8  2*5=10 2*6=12 2*7=14 2*8=16 2*9=18 \n",
      "3*1=3  3*2=6  3*3=9  3*4=12 3*5=15 3*6=18 3*7=21 3*8=24 3*9=27 \n",
      "4*1=4  4*2=8  4*3=12 4*4=16 4*5=20 4*6=24 4*7=28 4*8=32 4*9=36 \n",
      "5*1=5  5*2=10 5*3=15 5*4=20 5*5=25 5*6=30 5*7=35 5*8=40 5*9=45 \n",
      "6*1=6  6*2=12 6*3=18 6*4=24 6*5=30 6*6=36 6*7=42 6*8=48 6*9=54 \n",
      "7*1=7  7*2=14 7*3=21 7*4=28 7*5=35 7*6=42 7*7=49 7*8=56 7*9=63 \n",
      "8*1=8  8*2=16 8*3=24 8*4=32 8*5=40 8*6=48 8*7=56 8*8=64 8*9=72 \n",
      "9*1=9  9*2=18 9*3=27 9*4=36 9*5=45 9*6=54 9*7=63 9*8=72 9*9=81 \n"
     ]
    }
   ],
   "source": [
    "x=0\n",
    "while x<9:\n",
    "    x+=1\n",
    "    y=0\n",
    "    while y<9:\n",
    "        y+=1\n",
    "        print(\"{}*{}={:<2}\".format(x,y,x*y),end=\" \") \n",
    "    print()"
   ]
  },
  {
   "cell_type": "code",
   "execution_count": 46,
   "id": "7f8d1237",
   "metadata": {},
   "outputs": [
    {
     "name": "stdout",
     "output_type": "stream",
     "text": [
      "1\n",
      "4\n",
      "7\n",
      "10\n",
      "22\n"
     ]
    }
   ],
   "source": [
    "ss=0\n",
    "\n",
    "for z in range(1,11,3):\n",
    "    ss=ss+z\n",
    "    print(z)\n",
    "print(ss)"
   ]
  },
  {
   "cell_type": "code",
   "execution_count": 127,
   "id": "6da55618",
   "metadata": {},
   "outputs": [
    {
     "name": "stdout",
     "output_type": "stream",
     "text": [
      "4\n",
      "lose\n"
     ]
    }
   ],
   "source": [
    "#骰子 for loop\n",
    "import random\n",
    "\n",
    "\n",
    "p=0\n",
    "for p in range(3):\n",
    "    dice=random.randint(1,6)\n",
    "    print(dice)\n",
    "    if dice==4:\n",
    "        print(\"lose\")\n",
    "        break\n",
    "        \n",
    "    else:\n",
    "        pass\n",
    "    print(\"win\")\n"
   ]
  },
  {
   "cell_type": "code",
   "execution_count": 126,
   "id": "95bb8c6f",
   "metadata": {},
   "outputs": [
    {
     "name": "stdout",
     "output_type": "stream",
     "text": [
      "4\n",
      "輸\n"
     ]
    }
   ],
   "source": [
    "#骰子 while loop\n",
    "import random\n",
    "\n",
    "\n",
    "q=0\n",
    "\n",
    "\n",
    "while dic!=4:\n",
    "    q+=1\n",
    "    dic=random.randint(1,6)\n",
    "    print(dic)\n",
    "    if q==3:\n",
    "        print(\"贏\")\n",
    "        break\n",
    "        \n",
    "if dic==4:\n",
    "    print(dice)\n",
    "    print(\"輸\")"
   ]
  },
  {
   "cell_type": "code",
   "execution_count": null,
   "id": "c7ab1eab",
   "metadata": {},
   "outputs": [],
   "source": []
  },
  {
   "cell_type": "code",
   "execution_count": null,
   "id": "ea7118fa",
   "metadata": {},
   "outputs": [],
   "source": []
  },
  {
   "cell_type": "code",
   "execution_count": null,
   "id": "c440f2ee",
   "metadata": {},
   "outputs": [],
   "source": []
  }
 ],
 "metadata": {
  "kernelspec": {
   "display_name": "Python 3 (ipykernel)",
   "language": "python",
   "name": "python3"
  },
  "language_info": {
   "codemirror_mode": {
    "name": "ipython",
    "version": 3
   },
   "file_extension": ".py",
   "mimetype": "text/x-python",
   "name": "python",
   "nbconvert_exporter": "python",
   "pygments_lexer": "ipython3",
   "version": "3.10.9"
  }
 },
 "nbformat": 4,
 "nbformat_minor": 5
}
